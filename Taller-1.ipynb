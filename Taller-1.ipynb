{
 "cells": [
  {
   "cell_type": "markdown",
   "metadata": {},
   "source": [
    "# MONTE CARLO\n"
   ]
  },
  {
   "cell_type": "code",
   "execution_count": 7,
   "metadata": {
    "collapsed": false
   },
   "outputs": [
    {
     "name": "stdout",
     "output_type": "stream",
     "text": [
      "('Resultado = ', 0.8818661908704144)\n"
     ]
    }
   ],
   "source": [
    "import math\n",
    "import random\n",
    "    \n",
    "def Monte_Carlo():\n",
    "    n=0\n",
    "    sum=0\n",
    "    x=0\n",
    "    y=0\n",
    "    while n < 1000000:\n",
    "        x = 2 * random.uniform(0,1)\n",
    "        y = 2 * math.exp((-x)*x)\n",
    "        sum = sum + y \n",
    "        n = n + 1 \n",
    "    print(\"Resultado = \",sum/n)\n",
    "    \n",
    "Monte_Carlo()"
   ]
  },
  {
   "cell_type": "markdown",
   "metadata": {
    "collapsed": true
   },
   "source": [
    "# METODO DEL TRAPECIO"
   ]
  },
  {
   "cell_type": "code",
   "execution_count": 3,
   "metadata": {
    "collapsed": false
   },
   "outputs": [
    {
     "name": "stdout",
     "output_type": "stream",
     "text": [
      "('Resultado = ', 0.8797520661078067)\n"
     ]
    }
   ],
   "source": [
    "import math\n",
    "import random\n",
    "import numpy as np\n",
    "import matplotlib.pyplot as plt\n",
    " \n",
    "def Trapecio():\n",
    "    paso=0.1\n",
    "    x=0\n",
    "    x1=0\n",
    "    x2=paso\n",
    "    fx2=0\n",
    "    tria=0\n",
    "    suma=0\n",
    "    \n",
    "    while x2 < 2:\n",
    "        fx2 = math.exp((-x2)*x2)\n",
    "        tria = (math.exp((-x1)*x1)-fx2)*paso/2\n",
    "        suma = suma + tria + fx2 * paso\n",
    "        x1 = x2\n",
    "        x2 = x2 + paso \n",
    "    print (\"Resultado = \", suma)\n",
    "    \n",
    "Trapecio()"
   ]
  },
  {
   "cell_type": "code",
   "execution_count": null,
   "metadata": {
    "collapsed": true
   },
   "outputs": [],
   "source": []
  }
 ],
 "metadata": {
  "kernelspec": {
   "display_name": "Python 2",
   "language": "python",
   "name": "python2"
  },
  "language_info": {
   "codemirror_mode": {
    "name": "ipython",
    "version": 2
   },
   "file_extension": ".py",
   "mimetype": "text/x-python",
   "name": "python",
   "nbconvert_exporter": "python",
   "pygments_lexer": "ipython2",
   "version": "2.7.11"
  }
 },
 "nbformat": 4,
 "nbformat_minor": 2
}
